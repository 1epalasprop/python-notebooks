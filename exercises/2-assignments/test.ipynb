{
 "cells": [
  {
   "cell_type": "markdown",
   "id": "8e5e1b04-8328-4eaf-be71-2542e6858fcf",
   "metadata": {},
   "source": [
    "Ένας μετεωρολογικός σταθμός μέτρησης λαμβάνει μετρήσεις για το διοξείδιο του άνθρακα στην ατμόσφαιρα. \n",
    "Η μέτρηση αυτή επαναλαμβάνετε κάθε ώρα της ημέρας, δηλαδή 24 φορές.\n",
    "Να γράψετε πρόγραμμα σε Python το οποίο:\n",
    "\n",
    "α. Διαβάζει τον αριθμό της μέτρησης του διοξειδίου του άνθρακα όπως έχει καταγραφεί.</br> \n",
    "β. Εμφανίζει μήνυμα με τον αύξων αριθμό της μέτρησης, δηλαδή `1η μέτρηση`, `2η μέτρηση` κ.ο.κ.</br> \n",
    "γ. Να εμφανίζει στην οθόνη το μήνυμα `Ατμόσφαιρα καθαρή` αν το ποσοστό του διοξειδίου είναι κάτω από 0.35, αλλιώς το μήνυμα `Ατμόσφαιρα μολυσμένη`.</br>\n",
    "δ. Να υπολογίζει την μεγαλύτερη μέτρηση μέσα στις 24 ώρες και να την εμφανίζει στο τέλος του προγράμματος.\n"
   ]
  },
  {
   "cell_type": "code",
   "execution_count": null,
   "id": "7ac13696-85ee-4950-a4ae-3a400d82e57a",
   "metadata": {},
   "outputs": [],
   "source": []
  }
 ],
 "metadata": {
  "kernelspec": {
   "display_name": "Python 3 (ipykernel)",
   "language": "python",
   "name": "python3"
  },
  "language_info": {
   "codemirror_mode": {
    "name": "ipython",
    "version": 3
   },
   "file_extension": ".py",
   "mimetype": "text/x-python",
   "name": "python",
   "nbconvert_exporter": "python",
   "pygments_lexer": "ipython3",
   "version": "3.10.15"
  }
 },
 "nbformat": 4,
 "nbformat_minor": 5
}
